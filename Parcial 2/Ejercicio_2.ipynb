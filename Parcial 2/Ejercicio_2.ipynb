{
  "nbformat": 4,
  "nbformat_minor": 0,
  "metadata": {
    "colab": {
      "name": "Ejercicio 2.ipynb",
      "provenance": [],
      "authorship_tag": "ABX9TyMDOFg6iQoRP0GSP/f9RvUM",
      "include_colab_link": true
    },
    "kernelspec": {
      "name": "python3",
      "display_name": "Python 3"
    },
    "language_info": {
      "name": "python"
    }
  },
  "cells": [
    {
      "cell_type": "markdown",
      "metadata": {
        "id": "view-in-github",
        "colab_type": "text"
      },
      "source": [
        "<a href=\"https://colab.research.google.com/github/Lalo287/Simulacion_II-Ejercios/blob/main/Parcial%202/Ejercicio_2.ipynb\" target=\"_parent\"><img src=\"https://colab.research.google.com/assets/colab-badge.svg\" alt=\"Open In Colab\"/></a>"
      ]
    },
    {
      "cell_type": "markdown",
      "source": [
        "#Líneas de espera"
      ],
      "metadata": {
        "id": "brE9BTtjRBD2"
      }
    },
    {
      "cell_type": "markdown",
      "source": [
        "##Ejercicio 2.\n"
      ],
      "metadata": {
        "id": "GJiX-Djs82Qf"
      }
    },
    {
      "cell_type": "markdown",
      "source": [
        "Con la información de la tabla completa, determinar: $\\lambda$, $\\mu$, $L$ y $L_q$\n"
      ],
      "metadata": {
        "id": "q5eFKfUMKdJf"
      }
    },
    {
      "cell_type": "markdown",
      "source": [
        "| Pkt No. |Tpll  |tps  |Tiempo de arribo|Inicio de servicio|Hora de salida|Tiempo en fila |Tiempo en el sistema  |\n",
        "|---------|-----|----|--------------|-------------------|----------------|---------------|-----------------| \n",
        "|    1    |  2  | 12 |       2      |         2         |      14        |      0        |       12        |\n",
        "|    2    |  5  | 10 |       7      |         14        |      24        |      7        |       17        | \n",
        "|    3    |  1  | 16 |       8       |     24              |   40             |  16             |      32           |\n",
        "|    4    |  4  | 9  |     12         |    40               |    49            |      28         |      37           |\n",
        "|    5    |  1  | 10 |      13        |        49           |    59            |      36         |       46          | \n",
        "|    6    |  3  | 13 |      16        |       59            |     72           |      43         |       56          |\n",
        "|    7    |  3  | 17 |      19        |      72             |      89          |        53       |       70          | \n",
        "|    8    |  2  | 10 |      21        |        89           |      99          |       68        |        78         |\n",
        "|    9    |  4  | 8  |      25        |        99           |      107          |        74       |      82           |\n",
        "|   10    |  5  | 12 |     30         |        107           |     119           |       77        |         89        |"
      ],
      "metadata": {
        "id": "B4DSDYYO48va"
      }
    },
    {
      "cell_type": "markdown",
      "source": [
        "."
      ],
      "metadata": {
        "id": "m8AFVfTix1Kz"
      }
    },
    {
      "cell_type": "markdown",
      "source": [
        "1.   **Para $\\lambda$**\n",
        "\n",
        "$$  \\lambda = \\frac{No.clientes}{\\sum Tpll} $$\n",
        "$$    $$\n",
        "$$  \\lambda = \\frac{10}{30} = \\frac{1}{3} $$\n",
        "$$    $$\n",
        "$$  \\lambda = 0.33 $$\n",
        "$$    $$"
      ],
      "metadata": {
        "id": "QOsheTmqx1pZ"
      }
    },
    {
      "cell_type": "markdown",
      "source": [
        "2.   **Para $\\mu$**\n",
        "\n",
        "$$  \\mu = \\frac{No.clientes}{119-2}  $$\n",
        "$$    $$\n",
        "$$  \\mu = \\frac{10}{117} $$\n",
        "$$    $$\n",
        "$$  \\mu = 0.0854  $$\n",
        "$$    $$"
      ],
      "metadata": {
        "id": "hUw5G3fUse9S"
      }
    },
    {
      "cell_type": "markdown",
      "source": [
        "3.   **Para $L$**\n",
        "\n",
        "$$  L = \\lambda W  $$\n",
        "$$    $$\n",
        "\n",
        "> Donde $  W = \\frac{\\sum Tpo.Sistema}{No.clientes} = \\frac{519}{10} $\n",
        "\n",
        "$$    $$\n",
        "$$  L = \\frac{1}{3}* texto en negrita\\frac{519}{10} = \\frac{173}{10} $$\n",
        "$$    $$\n",
        "$$  L = 17.3 $$\n",
        "$$    $$"
      ],
      "metadata": {
        "id": "1_GbaOCQ4hxk"
      }
    },
    {
      "cell_type": "markdown",
      "source": [
        "4.   **Para $L_q$**\n",
        "\n",
        "$$  L_q = \\lambda W_q  $$\n",
        "$$    $$\n",
        "\n",
        "> Donde $  W_q = W-\\frac{1}{\\mu} = \\frac{201}{5} $\n",
        "\n",
        "$$    $$\n",
        "$$  L_q = \\frac{1}{3}*\\frac{201}{5} = \\frac{67}{5} $$\n",
        "$$    $$\n",
        "$$  L_q = 13.4 $$\n",
        "$$    $$"
      ],
      "metadata": {
        "id": "sF0azPz3G9SN"
      }
    }
  ]
}