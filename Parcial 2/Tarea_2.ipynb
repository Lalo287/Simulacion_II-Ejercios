{
  "nbformat": 4,
  "nbformat_minor": 0,
  "metadata": {
    "colab": {
      "name": "Tarea 2.ipynb",
      "provenance": [],
      "collapsed_sections": [],
      "authorship_tag": "ABX9TyMfhRzyC5TjMXZYl7q4zSs9",
      "include_colab_link": true
    },
    "kernelspec": {
      "name": "python3",
      "display_name": "Python 3"
    },
    "language_info": {
      "name": "python"
    }
  },
  "cells": [
    {
      "cell_type": "markdown",
      "metadata": {
        "id": "view-in-github",
        "colab_type": "text"
      },
      "source": [
        "<a href=\"https://colab.research.google.com/github/Lalo287/Simulacion_II-Ejercios/blob/main/Parcial%202/Tarea_2.ipynb\" target=\"_parent\"><img src=\"https://colab.research.google.com/assets/colab-badge.svg\" alt=\"Open In Colab\"/></a>"
      ]
    },
    {
      "cell_type": "markdown",
      "source": [
        "#Líneas de espera"
      ],
      "metadata": {
        "id": "brE9BTtjRBD2"
      }
    },
    {
      "cell_type": "markdown",
      "source": [
        "##Tarea 2.\n"
      ],
      "metadata": {
        "id": "GJiX-Djs82Qf"
      }
    },
    {
      "cell_type": "markdown",
      "source": [
        "Escribir el código en python de las rutinas indicadas en la sección 6.2 (pp. 88-91) del libro Simulación de Sheldon Ross."
      ],
      "metadata": {
        "id": "q5eFKfUMKdJf"
      }
    },
    {
      "cell_type": "code",
      "execution_count": 64,
      "metadata": {
        "colab": {
          "base_uri": "https://localhost:8080/",
          "height": 1000
        },
        "outputId": "1c35f2c3-8faf-4c38-b4dd-b2f21223c415",
        "id": "MPApSEUOPrbw"
      },
      "outputs": [
        {
          "output_type": "stream",
          "name": "stdout",
          "text": [
            " +-------------------------------------------------------------------------------+ \n",
            " |     Entrada        No. clientes        |        Salida        No. clientes    |\n",
            " +-------------------------------------------------------------------------------+ \n",
            " |      0.00               1              |          --              -           |\n",
            " |       --                -              |         0.09             0           |\n",
            " |      0.76               1              |          --              -           |\n",
            " |      0.94               2              |          --              -           |\n",
            " |       --                -              |         1.60             1           |\n",
            " |       --                -              |         1.60             0           |\n",
            " |      1.91               1              |          --              -           |\n",
            " |       --                -              |         1.94             0           |\n",
            " |      2.43               1              |          --              -           |\n",
            " |       --                -              |         2.54             0           |\n",
            " |      4.48               1              |          --              -           |\n",
            " |       --                -              |         4.56             0           |\n",
            " |      4.56               1              |          --              -           |\n",
            " |      4.62               2              |          --              -           |\n",
            " |       --                -              |         4.79             1           |\n",
            " |       --                -              |         4.96             0           |\n",
            " |      7.28               1              |          --              -           |\n",
            " |       --                -              |         7.31             0           |\n",
            " |      7.40               1              |          --              -           |\n",
            " |      7.87               2              |          --              -           |\n",
            " |      8.22               3              |          --              -           |\n",
            " |      8.28               4              |          --              -           |\n",
            " |       --                -              |         8.75             3           |\n",
            " |       --                -              |         9.03             2           |\n",
            " |       --                -              |         9.95             1           |\n",
            " |     10.37               2              |          --              -           |\n",
            " |       --                -              |        10.66             1           |\n",
            " |       --                -              |        11.07             0           |\n",
            " |     11.78               1              |          --              -           |\n",
            " |     11.88               2              |          --              -           |\n",
            " |     12.39               3              |          --              -           |\n",
            " |       --                -              |        12.62             2           |\n",
            " |     12.65               3              |          --              -           |\n",
            " |       --                -              |        12.68             2           |\n",
            " |       --                -              |        12.76             1           |\n",
            " |       --                -              |        12.80             0           |\n",
            " |     12.95               1              |          --              -           |\n",
            " |       --                -              |        13.21             0           |\n",
            " |     13.36               1              |          --              -           |\n",
            " |     13.56               2              |          --              -           |\n",
            " |       --                -              |        13.75             1           |\n",
            " |       --                -              |        14.60             0           |\n",
            " |     14.73               1              |          --              -           |\n",
            " |       --                -              |        14.91             0           |\n",
            " |     15.47               1              |          --              -           |\n",
            " |     15.83               2              |          --              -           |\n",
            " |       --                -              |        16.01             1           |\n",
            " |     16.08               2              |          --              -           |\n",
            " |       --                -              |        16.32             1           |\n",
            " |       --                -              |        16.38             0           |\n",
            " |     16.80               1              |          --              -           |\n",
            " |     16.89               2              |          --              -           |\n",
            " |       --                -              |        16.98             1           |\n",
            " |     17.13               2              |          --              -           |\n",
            " |       --                -              |        17.52             1           |\n",
            " |       --                -              |        17.67             0           |\n",
            " |     17.73               1              |          --              -           |\n",
            " |       --                -              |        18.36             0           |\n",
            " |     18.44               1              |          --              -           |\n",
            " |     18.60               2              |          --              -           |\n",
            " |       --                -              |        18.92             1           |\n",
            " |       --                -              |        19.61             0           |\n",
            " |     20.47               1              |          --              -           |\n",
            " |       --                -              |        20.47             0           |\n",
            " |     20.86               1              |          --              -           |\n",
            " |       --                -              |        21.27             0           |\n",
            " |     21.76               1              |          --              -           |\n",
            " |     22.16               2              |          --              -           |\n",
            " |     22.31               3              |          --              -           |\n",
            " |     23.27               4              |          --              -           |\n",
            " |     23.56               5              |          --              -           |\n",
            " |     23.65               6              |          --              -           |\n",
            " |       --                -              |        23.77             5           |\n",
            " |       --                -              |        23.79             4           |\n",
            " |     23.91               5              |          --              -           |\n",
            " |     24.10               6              |          --              -           |\n",
            " |     24.39               7              |          --              -           |\n",
            " |     24.45               8              |          --              -           |\n",
            " |       --                -              |        24.54             7           |\n",
            " |       --                -              |        24.96             6           |\n",
            " |       --                -              |        25.85             5           |\n",
            " |       --                -              |        25.85             4           |\n",
            " |     25.91               5              |          --              -           |\n",
            " |     25.98               6              |          --              -           |\n",
            " |       --                -              |        26.10             5           |\n",
            " |     26.25               6              |          --              -           |\n",
            " |     26.51               7              |          --              -           |\n",
            " |       --                -              |        26.51             6           |\n",
            " |     26.54               7              |          --              -           |\n",
            " |       --                -              |        26.62             6           |\n",
            " |       --                -              |        26.77             5           |\n",
            " |       --                -              |        27.05             4           |\n",
            " |     27.42               5              |          --              -           |\n",
            " |       --                -              |        27.47             4           |\n",
            " |       --                -              |        27.69             3           |\n",
            " |       --                -              |        27.74             2           |\n",
            " |     27.84               3              |          --              -           |\n",
            " |       --                -              |        28.10             2           |\n",
            " |     28.21               3              |          --              -           |\n",
            " |       --                -              |        28.45             2           |\n",
            " |       --                -              |        28.64             1           |\n",
            " |       --                -              |        29.37             0           |\n",
            " +-------------------------------------------------------------------------------+ \n",
            "                             \n",
            "                    Grafica               \n"
          ]
        },
        {
          "output_type": "display_data",
          "data": {
            "text/plain": [
              "<Figure size 432x288 with 1 Axes>"
            ],
            "image/png": "[encoded data removed]"
          },
          "metadata": {
            "needs_background": "light"
          }
        }
      ],
      "source": [
        "from random import random\n",
        "from math import log\n",
        "import matplotlib.pyplot as plt\n",
        "\n",
        "Na = 2                       #numero de llegadas\n",
        "Nd = 2.2                     #numero de salidas\n",
        "\n",
        "ta = 0                       #hora de la primer llegada\n",
        "td = 100000                  #hora de salida\n",
        "\n",
        "T=30                         #Tiempo de simulación\n",
        "t=0                          #tiempo transcrurrido\n",
        "\n",
        "n = 0            \n",
        "\n",
        "Lt=[ ]                       #Tiempos de ingreso y salida\n",
        "Ll=[ ]                       #Personas en el sistema\n",
        "\n",
        "print(\" +-------------------------------------------------------------------------------+ \")\n",
        "print(\" |     Entrada        No. clientes        |        Salida        No. clientes    |\")\n",
        "print(\" +-------------------------------------------------------------------------------+ \")\n",
        "\n",
        "while min(ta,td) < T:\n",
        "\n",
        "    Lt.append(t)\n",
        "    Ll.append(n)\n",
        "    t = min(ta,td)\n",
        "    Lt.append(t)\n",
        "    Ll.append(n)\n",
        "\n",
        "    if ta <= td:\n",
        "        n = n+1\n",
        "        print(\" |%10.2f\"%ta,\"             \",n,\"             |          --              -           |\")\n",
        "        ta = t + (-1/Na)*log(random())\n",
        "        if n == 1: td = t + (-1/Nd)*log(random())\n",
        "    else:\n",
        "        n = n-1\n",
        "        print(\" |       --                -              |  \",\"%10.2f\"%td,\"           \",n,\"          |\")\n",
        "        if n == 0:\n",
        "            td = 100000\n",
        "        else:\n",
        "            td = t + (-1./Nd)*log(random())\n",
        "\n",
        "print(\" +-------------------------------------------------------------------------------+ \")\n",
        "print(\"                             \")\n",
        "print(\"                    Grafica               \")\n",
        "plt.plot(Lt,Ll, color = \"pink\")\n",
        "plt.xlabel(\"Tiempo\")\n",
        "plt.ylabel(\"Personas en el sistema\")\n",
        "plt.show()"
      ]
    }
  ]
}