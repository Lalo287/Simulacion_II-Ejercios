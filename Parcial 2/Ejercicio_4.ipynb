{
  "nbformat": 4,
  "nbformat_minor": 0,
  "metadata": {
    "colab": {
      "name": "Ejercicio 4.ipynb",
      "provenance": [],
      "collapsed_sections": [],
      "authorship_tag": "ABX9TyOkCVULQ2NGxOHMEpPiubyp",
      "include_colab_link": true
    },
    "kernelspec": {
      "name": "python3",
      "display_name": "Python 3"
    },
    "language_info": {
      "name": "python"
    }
  },
  "cells": [
    {
      "cell_type": "markdown",
      "metadata": {
        "id": "view-in-github",
        "colab_type": "text"
      },
      "source": [
        "<a href=\"https://colab.research.google.com/github/Lalo287/Simulacion_II-Ejercios/blob/main/Parcial%202/Ejercicio_4.ipynb\" target=\"_parent\"><img src=\"https://colab.research.google.com/assets/colab-badge.svg\" alt=\"Open In Colab\"/></a>"
      ]
    },
    {
      "cell_type": "markdown",
      "source": [
        "#Líneas de espera"
      ],
      "metadata": {
        "id": "brE9BTtjRBD2"
      }
    },
    {
      "cell_type": "markdown",
      "source": [
        "##Ejercicio 4.\n"
      ],
      "metadata": {
        "id": "GJiX-Djs82Qf"
      }
    },
    {
      "cell_type": "markdown",
      "source": [
        "Calcular $L_q$ para el ejemplo anterior, usando las fórmulas de arriba.\n"
      ],
      "metadata": {
        "id": "m1y8Jgdb2tsu"
      }
    },
    {
      "cell_type": "markdown",
      "source": [
        "Lavado Automata para automóviles funciona sólo con un lugar. Los autos llegan siguiendo una distribución de Poisson, con 4 autos por hora, que pueden esperar en el estacionamiento de la instalación, si el lugar de lavado está ocupado. El tiempo para lavar y limpiar un automóviles exponencial, con 10 minutos de promedio. Los automóviles que no se pueden estacionar en la instalación pueden esperar en el arrollo junto al lavado. Eso quiere decir que para todo fin práctico no hay límite del tamaño del sistema. El gerente de la instalación desea determinar el tamaño del estacionamiento.\n",
        "\n",
        "Para resolver este problema, hay que determinar $L_q$, pero de momento estimemos $L$ y $W$ usando la simulación."
      ],
      "metadata": {
        "id": "ODgjHPb13WIc"
      }
    },
    {
      "cell_type": "code",
      "execution_count": 1,
      "metadata": {
        "id": "42Wczrij7U_u"
      },
      "outputs": [],
      "source": [
        "from random import expovariate\n",
        "from statistics import mean \n",
        "from math import inf as Infinity"
      ]
    },
    {
      "cell_type": "code",
      "execution_count": 16,
      "metadata": {
        "id": "yec0r8Ur7U_5",
        "outputId": "6803ea40-2b45-42c4-f7e2-f1add701abf4",
        "colab": {
          "base_uri": "https://localhost:8080/"
        }
      },
      "outputs": [
        {
          "output_type": "stream",
          "name": "stdout",
          "text": [
            " \n",
            "Tiempo de espera en el sistema =   W = 0.4908\n",
            "Numero esperado de clientes en el sistema =   L = 1.9575\n",
            " \n"
          ]
        }
      ],
      "source": [
        "lamda = 4                      # Razón de arrivos (1/Lambda)  Ojo\n",
        "mu = 6                            # Razón de salida (1/Mu)       Ojo\n",
        "\n",
        "\n",
        "Num_Pkts = 100000                   # Numero de paquetes a simular\n",
        "#T = 100000\n",
        "count = 0                           # Contador de paquetes simulados\n",
        "t = 0\n",
        "N = 0                               # Variable de estado: numero de paquetes en el sistema\n",
        "\n",
        "tll = expovariate(lamda)            # Tiempo de llegada\n",
        "ts = Infinity                       # Tiempo de salida\n",
        "\n",
        "t_evento_anterior = 0.0             # tiempo del último evento ****************Nuevas líneas de código***********\n",
        "\n",
        "\n",
        "# Variables de salida\n",
        "tll_Data = []                       # Lista de tiempos de llegada\n",
        "ts_Data = []                        # Lista de tiempos de salida\n",
        "r_Data = []                         # Lista de retrasos individuales\n",
        "Area = []                           # Area de escalón ***********************************************************\n",
        "\n",
        "\n",
        "while count < Num_Pkts:\n",
        "#while t < T:\n",
        "    if tll < ts:                           # Evento de llegada\n",
        "        t = tll\n",
        "        tll_Data.append(t)\n",
        "        \n",
        "        # Area del escalón ***********************************************************************************\n",
        "        Area.append((t - t_evento_anterior)*N)\n",
        "        t_evento_anterior = t\n",
        "        \n",
        "        \n",
        "        N = N + 1.0\n",
        "        tll = t + expovariate(lamda) \n",
        "        if N == 1:\n",
        "            ts = t + expovariate(mu)\n",
        "    else:                                         # Evento de salida\n",
        "        t = ts\n",
        "        ts_Data.append(t)\n",
        "        \n",
        "        # Area del escalón ***********************************************************************************\n",
        "        Area.append((t - t_evento_anterior)*N)\n",
        "        t_evento_anterior = t\n",
        "        \n",
        "        \n",
        "        N = N - 1.0\n",
        "        count = count + 1                         # Paquetes simulados\n",
        "        if N > 0:\n",
        "            ts = t + expovariate(mu)\n",
        "        else:\n",
        "            ts = Infinity\n",
        "            \n",
        "# Estimación del retraso promedio:\n",
        "\n",
        "for i in range(Num_Pkts):\n",
        "#for i in range(T):\n",
        "    d = ts_Data[i] - tll_Data[i]\n",
        "    r_Data.append(d)\n",
        "\n",
        "W = round( mean(r_Data), 4)\n",
        "L = round(sum(Area)/t, 4)\n",
        "print( \" \" )\n",
        "print( \"Tiempo de espera en el sistema =   W =\", W )\n",
        "print( \"Numero esperado de clientes en el sistema =   L =\", L )\n",
        "print( \" \" )"
      ]
    },
    {
      "cell_type": "markdown",
      "source": [
        "**Para $L_q$**\n",
        "\n",
        "$$  L_q = \\lambda W_q  $$\n",
        "$$    $$\n",
        "\n",
        "> Donde $  W_q = W-\\frac{1}{\\mu} $"
      ],
      "metadata": {
        "id": "sF0azPz3G9SN"
      }
    },
    {
      "cell_type": "code",
      "source": [
        "Wq = W - 1/mu\n",
        "\n",
        "print( \"Tiempo de espera en la cola =   Wq =\", round( Wq, 4) )"
      ],
      "metadata": {
        "colab": {
          "base_uri": "https://localhost:8080/"
        },
        "id": "skW2wK7rIkSz",
        "outputId": "c3ee3268-28b7-47f3-9ab4-665d2fa2e01a"
      },
      "execution_count": 17,
      "outputs": [
        {
          "output_type": "stream",
          "name": "stdout",
          "text": [
            "Tiempo de espera en la cola =   Wq = 0.3241\n"
          ]
        }
      ]
    },
    {
      "cell_type": "markdown",
      "source": [
        "Entonces:\n",
        "\n"
      ],
      "metadata": {
        "id": "AB9SL1WLJZ0E"
      }
    },
    {
      "cell_type": "code",
      "source": [
        "Lq = lamda * Wq\n",
        "\n",
        "print( \"Cantidad promedio de clientes en la fila =    Lq = \", round( Lq, 4) )"
      ],
      "metadata": {
        "colab": {
          "base_uri": "https://localhost:8080/"
        },
        "id": "1ItW82EnLVFm",
        "outputId": "e3341526-93bc-41c8-c9dc-8f3c2a4eaae5"
      },
      "execution_count": 18,
      "outputs": [
        {
          "output_type": "stream",
          "name": "stdout",
          "text": [
            "Cantidad promedio de clientes en la fila =    Lq =  1.2965\n"
          ]
        }
      ]
    },
    {
      "cell_type": "markdown",
      "source": [
        "Por lo tanto:\n",
        "$$    $$\n",
        "$$  L_q = 1.297 $$\n",
        "$$    $$"
      ],
      "metadata": {
        "id": "BSSJfMrZMZ1T"
      }
    }
  ]
}