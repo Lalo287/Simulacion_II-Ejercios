{
  "nbformat": 4,
  "nbformat_minor": 0,
  "metadata": {
    "colab": {
      "name": "Ejercicio 1.ipynb",
      "provenance": [],
      "toc_visible": true,
      "authorship_tag": "ABX9TyNXP67pD9lCEYRqWGR0LBQ0",
      "include_colab_link": true
    },
    "kernelspec": {
      "name": "python3",
      "display_name": "Python 3"
    },
    "language_info": {
      "name": "python"
    }
  },
  "cells": [
    {
      "cell_type": "markdown",
      "metadata": {
        "id": "view-in-github",
        "colab_type": "text"
      },
      "source": [
        "<a href=\"https://colab.research.google.com/github/Lalo287/Simulacion_II-Ejercios/blob/main/Ejercicio_1.ipynb\" target=\"_parent\"><img src=\"https://colab.research.google.com/assets/colab-badge.svg\" alt=\"Open In Colab\"/></a>"
      ]
    },
    {
      "cell_type": "markdown",
      "source": [
        "#Líneas de espera"
      ],
      "metadata": {
        "id": "brE9BTtjRBD2"
      }
    },
    {
      "cell_type": "markdown",
      "source": [
        "##Ejercicio 1."
      ],
      "metadata": {
        "id": "0vUEKQCMRGkw"
      }
    },
    {
      "cell_type": "markdown",
      "source": [
        "Completar la siguiente tabla."
      ],
      "metadata": {
        "id": "LSqbU0r3RShZ"
      }
    },
    {
      "cell_type": "markdown",
      "source": [
        "| Pkt No. |Tpll  |tps  |Tiempo de arribo|Inicio de servicio|Hora de salida|Tiempo en fila |Tiempo en el sistema  |\n",
        "|---------|-----|----|--------------|-------------------|----------------|---------------|-----------------| \n",
        "|    1    |  2  | 12 |       2      |         2         |      14        |      0        |       12        |\n",
        "|    2    |  5  | 10 |       7      |         14        |      24        |      7        |       17        | \n",
        "|    3    |  1  | 16 |       8      |         24        |      40        |      16       |       32        |\n",
        "|    4    |  4  | 9  |              |                   |                |               |                 |\n",
        "|    5    |  1  | 10 |              |                   |                |               |                 | \n",
        "|    6    |  3  | 13 |              |                   |                |               |                 |\n",
        "|    7    |  3  | 17 |              |                   |                |               |                 | \n",
        "|    8    |  2  | 10 |              |                   |                |               |                 |\n",
        "|    9    |  4  | 8  |              |                   |                |               |                 |\n",
        "|   10    |  5  | 12 |              |                   |                |               |                 |"
      ],
      "metadata": {
        "id": "QNkn1YHO4sgE"
      }
    },
    {
      "cell_type": "markdown",
      "source": [
        "| Pkt No. |Tpll  |tps  |Tiempo de arribo|Inicio de servicio|Hora de salida|Tiempo en fila |Tiempo en el sistema  |\n",
        "|---------|-----|----|--------------|-------------------|----------------|---------------|-----------------| \n",
        "|    1    |  2  | 12 |       2      |         2         |      14        |      0        |       12        |\n",
        "|    2    |  5  | 10 |       7      |         14        |      24        |      7        |       17        | \n",
        "|    3    |  1  | 16 |       8       |     24              |   40             |  16             |      32           |\n",
        "|    4    |  4  | 9  |     12         |    40               |    49            |      28         |      37           |\n",
        "|    5    |  1  | 10 |      13        |        49           |    59            |      36         |       46          | \n",
        "|    6    |  3  | 13 |      16        |       59            |     72           |      43         |       56          |\n",
        "|    7    |  3  | 17 |      19        |      72             |      89          |        53       |       70          | \n",
        "|    8    |  2  | 10 |      21        |        89           |      99          |       68        |        78         |\n",
        "|    9    |  4  | 8  |      25        |        99           |      107          |        74       |      82           |\n",
        "|   10    |  5  | 12 |     30         |        107           |     119           |       77        |         89        |"
      ],
      "metadata": {
        "id": "B4DSDYYO48va"
      }
    },
    {
      "cell_type": "markdown",
      "source": [
        ""
      ],
      "metadata": {
        "id": "9MOD1IxU5h-Z"
      }
    }
  ]
}
