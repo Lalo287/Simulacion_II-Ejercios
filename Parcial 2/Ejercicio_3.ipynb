{
  "nbformat": 4,
  "nbformat_minor": 0,
  "metadata": {
    "colab": {
      "name": "Ejercicio 3.ipynb",
      "provenance": [],
      "authorship_tag": "ABX9TyON4h48ZPQ2r/0Mk4gRDYeD",
      "include_colab_link": true
    },
    "kernelspec": {
      "name": "python3",
      "display_name": "Python 3"
    },
    "language_info": {
      "name": "python"
    }
  },
  "cells": [
    {
      "cell_type": "markdown",
      "metadata": {
        "id": "view-in-github",
        "colab_type": "text"
      },
      "source": [
        "<a href=\"https://colab.research.google.com/github/Lalo287/Simulacion_II-Ejercios/blob/main/Ejercicio_3.ipynb\" target=\"_parent\"><img src=\"https://colab.research.google.com/assets/colab-badge.svg\" alt=\"Open In Colab\"/></a>"
      ]
    },
    {
      "cell_type": "markdown",
      "source": [
        "#Líneas de espera"
      ],
      "metadata": {
        "id": "brE9BTtjRBD2"
      }
    },
    {
      "cell_type": "markdown",
      "source": [
        "##Ejercicio 3.\n"
      ],
      "metadata": {
        "id": "GJiX-Djs82Qf"
      }
    },
    {
      "cell_type": "markdown",
      "source": [
        "Escribir el código para la subrutina que genera $T_s$."
      ],
      "metadata": {
        "id": "q5eFKfUMKdJf"
      }
    },
    {
      "cell_type": "code",
      "source": [
        "import random\n",
        "import numpy as np"
      ],
      "metadata": {
        "id": "05eThNLOV0H_"
      },
      "execution_count": 6,
      "outputs": []
    },
    {
      "cell_type": "markdown",
      "source": [
        "Dado una **$\\lambda$** y una **Tiempo promedio entre llegadas**"
      ],
      "metadata": {
        "id": "umgwt07VrLgi"
      }
    },
    {
      "cell_type": "code",
      "source": [
        "lambd = 1/3\n",
        "s = 3 "
      ],
      "metadata": {
        "id": "gO6_aW3Crrci"
      },
      "execution_count": null,
      "outputs": []
    },
    {
      "cell_type": "markdown",
      "source": [
        "y se cumple que:"
      ],
      "metadata": {
        "id": "hV6KbdZPr9P5"
      }
    },
    {
      "cell_type": "code",
      "source": [
        "t = s"
      ],
      "metadata": {
        "id": "ggBRwDT2sBNw"
      },
      "execution_count": null,
      "outputs": []
    },
    {
      "cell_type": "markdown",
      "source": [
        "Entonces:"
      ],
      "metadata": {
        "id": "13z-TBVAsD-e"
      }
    },
    {
      "cell_type": "code",
      "source": [
        "n = 0                                           \n",
        "t = 0\n",
        "\n",
        "while n==0 :\n",
        "  U = random.random()                                #Generar U~(0,1)\n",
        "  t = t-(1/lambd)*np.log(U)\n",
        "  U2 = random.random()                               #Generar U~(0,1)\n",
        "\n",
        "  if (U2 <= (random.expovariate(t)/lambd)):          #Si U<=λ(t)/λ\n",
        "    Ts = t\n",
        "    n = 1                                            #Termina el ciclo\n",
        "  \n",
        "print('Ts = ',Ts)"
      ],
      "metadata": {
        "colab": {
          "base_uri": "https://localhost:8080/"
        },
        "id": "tXHuIfvXsVDY",
        "outputId": "16ebd59a-148d-4134-c3e0-f1fb8220d8cc"
      },
      "execution_count": 31,
      "outputs": [
        {
          "output_type": "stream",
          "name": "stdout",
          "text": [
            "Ts =  7.935864308910976\n"
          ]
        }
      ]
    }
  ]
}
