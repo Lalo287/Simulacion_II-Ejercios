{
  "nbformat": 4,
  "nbformat_minor": 0,
  "metadata": {
    "colab": {
      "name": "Ejercicio 8.ipynb",
      "provenance": [],
      "authorship_tag": "ABX9TyP1PEBZ1fMd9qec1ux+s0xJ",
      "include_colab_link": true
    },
    "kernelspec": {
      "name": "python3",
      "display_name": "Python 3"
    },
    "language_info": {
      "name": "python"
    }
  },
  "cells": [
    {
      "cell_type": "markdown",
      "metadata": {
        "id": "view-in-github",
        "colab_type": "text"
      },
      "source": [
        "<a href=\"https://colab.research.google.com/github/Lalo287/Simulacion_II-Ejercios/blob/main/Ejercicio_8.ipynb\" target=\"_parent\"><img src=\"https://colab.research.google.com/assets/colab-badge.svg\" alt=\"Open In Colab\"/></a>"
      ]
    },
    {
      "cell_type": "markdown",
      "metadata": {
        "id": "JUrgb5AWwAA4"
      },
      "source": [
        "# Cálculo de integrales por el método de Monte Carlo"
      ]
    },
    {
      "cell_type": "markdown",
      "source": [
        "##Ejercicio 8:"
      ],
      "metadata": {
        "id": "sODePzADfT0q"
      }
    },
    {
      "cell_type": "markdown",
      "metadata": {
        "id": "vPK0uyfUfOhc"
      },
      "source": [
        "Estimar las integrales:\n",
        "\n",
        "\n",
        "**1. $\\int_0^1 (1 - x^2)^{\\frac{3}{2}} dx$**"
      ]
    },
    {
      "cell_type": "code",
      "source": [
        "from itertools import tee\n",
        "import random\n",
        "import numpy as np\n",
        "import matplotlib.pyplot as plt\n",
        "\n",
        "n = int(input(\"Numero de puntos que desea \"))\n",
        "x = np.linspace(0, 2, 1000)\n",
        "y = (1-x*x)**(3/2)\n",
        "dentro = 0\n",
        "\n",
        "print ()\n",
        "fig = plt.figure(1, figsize=(6, 6))\n",
        "for i in range(n):\n",
        "    x_1 = random.uniform(0, 1)\n",
        "    y_1 = random.uniform(0, 1)\n",
        "    plt.scatter(x_1, y_1, s=20, c=\"red\")\n",
        "    if (1-x_1**2)**(3/2) >= y_1 :\n",
        "      dentro += 1\n",
        "\n",
        "plt.plot(x, y, color=\"blue\", markersize=1)\n",
        "\n",
        "plt.title(\"Grafica\")\n",
        "plt.xlabel(\"Eje X\")\n",
        "plt.ylabel(\"Eje Y\")\n",
        "plt.grid()\n",
        "plt.show()\n",
        "\n",
        "print ()\n",
        "print(\"El valor de pc(b-a) =\" , (dentro/n))"
      ],
      "metadata": {
        "id": "YwYQl2AEkXYS"
      },
      "execution_count": null,
      "outputs": []
    },
    {
      "cell_type": "markdown",
      "metadata": {
        "id": "d-YAx16IfOha"
      },
      "source": [
        "**2. $\\int_{-2}^2 \\exp (x + x^2) dx$**\n"
      ]
    },
    {
      "cell_type": "code",
      "source": [
        "from itertools import tee\n",
        "import random\n",
        "import numpy as np\n",
        "import matplotlib.pyplot as plt\n",
        "\n",
        "n = int(input(\"Numero de puntos que desea \"))\n",
        "x = np.linspace(-2, 2, 90000)\n",
        "y = np.exp(x+x*x)\n",
        "dentro = 0\n",
        "\n",
        "print ()\n",
        "fig = plt.figure(1, figsize=(6, 6))\n",
        "for i in range(n):\n",
        "    x_1 = random.uniform(-2, 2)\n",
        "    y_1 = random.uniform(0, 403.4)\n",
        "    plt.scatter(x_1, y_1, s=20, c=\"red\")\n",
        "    if np.exp(x_1+x_1*x_1) >= y_1 :\n",
        "      dentro += 1\n",
        "\n",
        "plt.plot(x, y, color=\"blue\", markersize=1)\n",
        "\n",
        "plt.title(\"Grafica\")\n",
        "plt.xlabel(\"Eje X\")\n",
        "plt.ylabel(\"Eje Y\")\n",
        "plt.grid()\n",
        "plt.show()\n",
        "\n",
        "print ()\n",
        "print(\"El valor de pc(b-a) =\" , 403.4*4*(dentro/n))"
      ],
      "metadata": {
        "id": "X22zkZmPbBEY"
      },
      "execution_count": null,
      "outputs": []
    }
  ]
}