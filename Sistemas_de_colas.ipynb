{
  "nbformat": 4,
  "nbformat_minor": 0,
  "metadata": {
    "colab": {
      "name": "Sistemas de colas.ipynb",
      "provenance": [],
      "authorship_tag": "ABX9TyOZESIwdRIunOZzQmV4zz8b",
      "include_colab_link": true
    },
    "kernelspec": {
      "name": "python3",
      "display_name": "Python 3"
    },
    "language_info": {
      "name": "python"
    }
  },
  "cells": [
    {
      "cell_type": "markdown",
      "metadata": {
        "id": "view-in-github",
        "colab_type": "text"
      },
      "source": [
        "<a href=\"https://colab.research.google.com/github/Lalo287/Simulacion_II-Ejercios/blob/main/Sistemas_de_colas.ipynb\" target=\"_parent\"><img src=\"https://colab.research.google.com/assets/colab-badge.svg\" alt=\"Open In Colab\"/></a>"
      ]
    },
    {
      "cell_type": "markdown",
      "source": [
        "#Modelo M/M/S"
      ],
      "metadata": {
        "id": "Q1imCfLQZ6Qv"
      }
    },
    {
      "cell_type": "code",
      "execution_count": 7,
      "metadata": {
        "colab": {
          "base_uri": "https://localhost:8080/"
        },
        "id": "-I4kyYJAZ0vw",
        "outputId": "76874c8a-000d-475f-a1e6-d622a5649b95"
      },
      "outputs": [
        {
          "output_type": "stream",
          "name": "stdout",
          "text": [
            "La probabilidad de P0 = 0.0909\n",
            "La probabilidad de Pn = 0.1515\n",
            "\n",
            "No. de clientes en Lq = 3.7879\n",
            "No. de clientes en L = 5.4545\n",
            "\n",
            "Tiempo en Wq = 0.7576\n",
            "Tiempo en W = 1.0909\n"
          ]
        }
      ],
      "source": [
        "import math\n",
        "from math import factorial\n",
        "\n",
        "t = 5                             # Promedio de llegada. \n",
        "u = 3                             # Promedio de salida.\n",
        "s = 2                              # No. de servidores.\n",
        "n = 1                              # No. de clientes.\n",
        "suma = 0\n",
        "p = t/(u*s)                         # Tasa de muerte puro.\n",
        "\n",
        "# La probabilidad de cero (P0)\n",
        "for n in range(s):\n",
        "    suma += (s*p)**n / (factorial(n))\n",
        "\n",
        "p0 =  1 / (suma + (s*p)**s / (factorial(s)*(1-p)))\n",
        "print (\"La probabilidad de P0 =\", round( p0, 4 ))\n",
        "\n",
        "# La probabilidad de n clientes a dentro (Pn)\n",
        "if n < s:\n",
        "  pn = ((s*p)**n / factorial(n)) * p0\n",
        "  print (\"La probabilidad de Pn =\", round( pn, 4 ))\n",
        "else:\n",
        "  pn = ((s*p)**n / (factorial(s) * s**(n-s))) * p0\n",
        "  print (\"La probabilidad de Pn =\", round( pn, 4 ))\n",
        "print ( )\n",
        "\n",
        "# La cantidad promedio de clientes en la fila\n",
        "lq = (s**s * p**(s+1) * p0)/(factorial(s) * (1-p)**2)\n",
        "print (\"No. de clientes en Lq =\", round( lq, 4 ))\n",
        "\n",
        "# La cantidad promedio de clientes en el sistema\n",
        "l = lq + (t/u)\n",
        "print (\"No. de clientes en L =\", round( l, 4 ))\n",
        "print ( )\n",
        "\n",
        "# Tiempo de espera en la fila\n",
        "wq = lq / t\n",
        "print (\"Tiempo en Wq =\", round( wq, 4 ))\n",
        "\n",
        "# Tiempo de espera en el sistema\n",
        "w = wq + (1/u)\n",
        "print (\"Tiempo en W =\", round( w, 4 ))"
      ]
    }
  ]
}