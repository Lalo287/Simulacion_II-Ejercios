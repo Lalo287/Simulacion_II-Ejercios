{
  "nbformat": 4,
  "nbformat_minor": 0,
  "metadata": {
    "colab": {
      "name": "Sistemas de colas.ipynb",
      "provenance": [],
      "authorship_tag": "ABX9TyNJbTmkLmatbFb52WklOcqx",
      "include_colab_link": true
    },
    "kernelspec": {
      "name": "python3",
      "display_name": "Python 3"
    },
    "language_info": {
      "name": "python"
    }
  },
  "cells": [
    {
      "cell_type": "markdown",
      "metadata": {
        "id": "view-in-github",
        "colab_type": "text"
      },
      "source": [
        "<a href=\"https://colab.research.google.com/github/Lalo287/Simulacion_II-Ejercios/blob/main/Sistemas_de_colas.ipynb\" target=\"_parent\"><img src=\"https://colab.research.google.com/assets/colab-badge.svg\" alt=\"Open In Colab\"/></a>"
      ]
    },
    {
      "cell_type": "markdown",
      "source": [
        "#Modelo M/M/S"
      ],
      "metadata": {
        "id": "Q1imCfLQZ6Qv"
      }
    },
    {
      "cell_type": "code",
      "execution_count": 28,
      "metadata": {
        "colab": {
          "base_uri": "https://localhost:8080/"
        },
        "id": "-I4kyYJAZ0vw",
        "outputId": "a0916e74-81d7-4eac-9043-de504e269808"
      },
      "outputs": [
        {
          "output_type": "stream",
          "name": "stdout",
          "text": [
            "La probabilidad de P0 = 0.0318\n",
            "No. de clientes en Lq = 0.6533\n",
            "No. de clientes en L = 3.9867\n",
            "Tiempo en Wq = 0.0266\n"
          ]
        }
      ],
      "source": [
        "import math\n",
        "from math import factorial\n",
        "\n",
        "t = 100                            # Promedio de llegada. \n",
        "u = 30                             # Promedio de salida.\n",
        "s = 5                              # No. de servidores.\n",
        "\n",
        "p = t/(u*s)                         # Tasa de muerte puro.\n",
        "\n",
        "# La probabilidad de cero (P0)\n",
        "suma = 0\n",
        "\n",
        "for n in range(s):\n",
        "    suma += (s*p)**n / (factorial(n))\n",
        "\n",
        "p0 =  1 / (suma + (s*p)**s / (factorial(s)*(1-p)))\n",
        "print (\"La probabilidad de P0 =\", round( p0, 4 ))\n",
        "\n",
        "\n",
        "# La cantidad promedio de clientes en la fila\n",
        "\n",
        "lq = (s**s * p**(s+1) * p0)/(factorial(s) * (1-p)**2)\n",
        "print (\"No. de clientes en Lq =\", round( lq, 4 ))\n",
        "\n",
        "\n",
        "# La cantidad promedio de clientes en el sistema\n",
        "\n",
        "l = lq + (t/u)\n",
        "print (\"No. de clientes en L =\", round( l, 4 ))\n",
        "\n",
        "\n",
        "# Tiempo de espera en la fila\n",
        "\n",
        "wq = (p/t)*(lq + s*p)\n",
        "print (\"Tiempo en Wq =\", round( wq, 4 ))"
      ]
    }
  ]
}