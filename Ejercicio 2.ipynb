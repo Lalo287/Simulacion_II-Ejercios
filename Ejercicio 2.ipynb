{
  "nbformat": 4,
  "nbformat_minor": 0,
  "metadata": {
    "colab": {
      "name": "Untitled0.ipynb",
      "provenance": [],
      "authorship_tag": "ABX9TyPxkNHxpqzrpgUsmOiBtunj",
      "include_colab_link": true
    },
    "kernelspec": {
      "name": "python3",
      "display_name": "Python 3"
    },
    "language_info": {
      "name": "python"
    }
  },
  "cells": [
    {
      "cell_type": "markdown",
      "metadata": {
        "id": "view-in-github",
        "colab_type": "text"
      },
      "source": [
        "<a href=\"https://colab.research.google.com/github/Lalo287/Simulacion_II-Ejercios/blob/main/Ejercicio%202.ipynb\" target=\"_parent\"><img src=\"https://colab.research.google.com/assets/colab-badge.svg\" alt=\"Open In Colab\"/></a>"
      ]
    },
    {
      "cell_type": "markdown",
      "source": [
        "# Uso de los números aleatorios\n"
      ],
      "metadata": {
        "id": "p1YiNW7mwFAW"
      }
    },
    {
      "cell_type": "markdown",
      "source": [
        "## Ejercicio 2:"
      ],
      "metadata": {
        "id": "arnOl6lBuftu"
      }
    },
    {
      "cell_type": "markdown",
      "source": [
        "a.   Simular un sorteo de los colores blanco, negro, rojo, azul y verde.\n",
        "\n"
      ],
      "metadata": {
        "id": "f0xdhZPRvr6P"
      }
    },
    {
      "cell_type": "code",
      "source": [
        "import random \n",
        "\n",
        "print(\"Te a tocado el color\", random.choice([\"blanco\", \"negro\", \"rojo\", \"azul\", \"verde\"]))\n",
        "print()"
      ],
      "metadata": {
        "id": "iQWevdRDv4TA",
        "colab": {
          "base_uri": "https://localhost:8080/"
        },
        "outputId": "a625de8d-e9c5-4bd9-a28a-a2ab99077769"
      },
      "execution_count": 17,
      "outputs": [
        {
          "output_type": "stream",
          "name": "stdout",
          "text": [
            "Te a tocado el color blanco\n",
            "\n"
          ]
        }
      ]
    },
    {
      "cell_type": "markdown",
      "source": [
        "b.   Simular 5 sorteos con sustitución.\n"
      ],
      "metadata": {
        "id": "_pprwXCPv4m3"
      }
    },
    {
      "cell_type": "code",
      "source": [
        "print(\"Te han tocado los colores\", end=' ')\n",
        "for i in range(4):\n",
        "  print(random.choice([\"blanco,\", \"negro,\", \"rojo,\", \"azul,\", \"verde,\"]), end=' ')\n",
        "print(random.choice([\"blanco\", \"negro.\", \"rojo.\", \"azul.\", \"verde.\"]), end=' ')\n",
        "print()"
      ],
      "metadata": {
        "id": "WeiP7ZZHwBYA",
        "colab": {
          "base_uri": "https://localhost:8080/"
        },
        "outputId": "54bcd4c7-0ce7-4304-cd6b-96545fd7f7c8"
      },
      "execution_count": 18,
      "outputs": [
        {
          "output_type": "stream",
          "name": "stdout",
          "text": [
            "Te han tocado los colores negro, verde, verde, blanco, rojo. \n"
          ]
        }
      ]
    }
  ]
}