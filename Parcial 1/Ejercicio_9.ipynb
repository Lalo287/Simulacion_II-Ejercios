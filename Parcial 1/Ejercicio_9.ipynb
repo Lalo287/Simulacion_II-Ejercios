{
  "nbformat": 4,
  "nbformat_minor": 0,
  "metadata": {
    "colab": {
      "name": "Ejercicio 9.ipynb",
      "provenance": [],
      "authorship_tag": "ABX9TyPZE/ruvTRmTTB5EzLnw+th",
      "include_colab_link": true
    },
    "kernelspec": {
      "name": "python3",
      "display_name": "Python 3"
    },
    "language_info": {
      "name": "python"
    }
  },
  "cells": [
    {
      "cell_type": "markdown",
      "metadata": {
        "id": "view-in-github",
        "colab_type": "text"
      },
      "source": [
        "<a href=\"https://colab.research.google.com/github/Lalo287/Simulacion_II-Ejercios/blob/main/Ejercicio_9.ipynb\" target=\"_parent\"><img src=\"https://colab.research.google.com/assets/colab-badge.svg\" alt=\"Open In Colab\"/></a>"
      ]
    },
    {
      "cell_type": "markdown",
      "metadata": {
        "id": "Xj5MyBXOtR_c"
      },
      "source": [
        "# Uso de los números aleatorios"
      ]
    },
    {
      "cell_type": "markdown",
      "source": [
        "##Ejercicio 9:\n"
      ],
      "metadata": {
        "id": "wEj91dcYvKAb"
      }
    },
    {
      "cell_type": "markdown",
      "source": [
        "**1. Elegir al azar una ciudad de la Lista despues de hacer una mezcla.**"
      ],
      "metadata": {
        "id": "aFlFSO7pvgRD"
      }
    },
    {
      "cell_type": "code",
      "source": [
        "import random \n",
        "import numpy as np \n",
        "\n",
        "Lista = ['Guadalajara','Cancún','Querétaro','Monterrey','Puebla', 'Mazatlán','Yucatán','Oaxaca','Jalisco','Chiapas']\n",
        "\n",
        "print (\"Lista de ciudades:\", Lista)\n",
        "print()\n",
        "\n",
        "Ciudad = random.choice(Lista) \n",
        "print (\"La ciudad elegida es:\", Ciudad)\n",
        "\n",
        "random.shuffle(Lista) \n",
        "print (\"Y una mezcla seria:\", Lista)\n",
        "\n"
      ],
      "metadata": {
        "colab": {
          "base_uri": "https://localhost:8080/"
        },
        "id": "jHkTNNafvmZy",
        "outputId": "c06274b8-d8e4-497a-adeb-7d29665c5414"
      },
      "execution_count": 17,
      "outputs": [
        {
          "output_type": "stream",
          "name": "stdout",
          "text": [
            "Lista de ciudades: ['Guadalajara', 'Cancún', 'Querétaro', 'Monterrey', 'Puebla', 'Mazatlán', 'Yucatán', 'Oaxaca', 'Jalisco', 'Chiapas']\n",
            "\n",
            "La ciudad elegida es: Chiapas\n",
            "Y una mezcla seria: ['Puebla', 'Oaxaca', 'Querétaro', 'Mazatlán', 'Chiapas', 'Cancún', 'Monterrey', 'Yucatán', 'Guadalajara', 'Jalisco']\n"
          ]
        }
      ]
    },
    {
      "cell_type": "markdown",
      "source": [
        "**2. Elegir al azar tres ciudades después de una mezcla.**"
      ],
      "metadata": {
        "id": "yPagiDvJvoWS"
      }
    },
    {
      "cell_type": "code",
      "source": [
        "import random \n",
        "import numpy as np \n",
        "\n",
        "Lista = ['Guadalajara','Cancún','Querétaro','Monterrey','Puebla', 'Mazatlán','Yucatán','Oaxaca','Jalisco','Chiapas']\n",
        "\n",
        "print (\"Lista de ciudades:\", Lista)\n",
        "print()\n",
        "\n",
        "random.shuffle(Lista) \n",
        "print (\"Y una mezcla seria:\", Lista)\n",
        "\n",
        "print (\"La ciudad elegida es:\", random.sample(Lista, 3)) \n"
      ],
      "metadata": {
        "colab": {
          "base_uri": "https://localhost:8080/"
        },
        "id": "s8qKELFwvvyi",
        "outputId": "769017d2-3caa-4463-b669-37fa6c5c708c"
      },
      "execution_count": 20,
      "outputs": [
        {
          "output_type": "stream",
          "name": "stdout",
          "text": [
            "Lista de ciudades: ['Guadalajara', 'Cancún', 'Querétaro', 'Monterrey', 'Puebla', 'Mazatlán', 'Yucatán', 'Oaxaca', 'Jalisco', 'Chiapas']\n",
            "\n",
            "Y una mezcla seria: ['Mazatlán', 'Monterrey', 'Querétaro', 'Oaxaca', 'Guadalajara', 'Yucatán', 'Jalisco', 'Cancún', 'Puebla', 'Chiapas']\n",
            "La ciudad elegida es: ['Yucatán', 'Monterrey', 'Jalisco']\n"
          ]
        }
      ]
    }
  ]
}
