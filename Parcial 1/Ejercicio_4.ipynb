{
  "nbformat": 4,
  "nbformat_minor": 0,
  "metadata": {
    "colab": {
      "name": "Ejercicio 4.ipynb",
      "provenance": [],
      "authorship_tag": "ABX9TyNx8+8hOeWDBgsVoyyTHdDE",
      "include_colab_link": true
    },
    "kernelspec": {
      "name": "python3",
      "display_name": "Python 3"
    },
    "language_info": {
      "name": "python"
    }
  },
  "cells": [
    {
      "cell_type": "markdown",
      "metadata": {
        "id": "view-in-github",
        "colab_type": "text"
      },
      "source": [
        "<a href=\"https://colab.research.google.com/github/Lalo287/Simulacion_II-Ejercios/blob/main/Ejercicio_4.ipynb\" target=\"_parent\"><img src=\"https://colab.research.google.com/assets/colab-badge.svg\" alt=\"Open In Colab\"/></a>"
      ]
    },
    {
      "cell_type": "markdown",
      "source": [
        "# Uso de los números aleatorios\n",
        "\n"
      ],
      "metadata": {
        "id": "jVOaUYmn2oVu"
      }
    },
    {
      "cell_type": "markdown",
      "source": [
        "## Ejercicio 4:"
      ],
      "metadata": {
        "id": "voyBKDwTkVgy"
      }
    },
    {
      "cell_type": "markdown",
      "source": [
        "Si se tiene, para cada punto aleatorio:\n",
        "\n",
        "*   $X_i=1$ si cae dentro del circulo \n",
        "*   $X_i=0$ si cae fuera del circulo\n",
        "\n",
        "a) Calcular $E[X_i]$ y $V[X_i]$"
      ],
      "metadata": {
        "id": "sA9o84aE661k"
      }
    },
    {
      "cell_type": "code",
      "source": [
        "import random \n",
        "\n",
        "n = int(input(\"Numero de puntos que desea \"))\n",
        "dentro = 0\n",
        "\n",
        "for i in range(n):\n",
        "    x_i = random.uniform(-2, 2)\n",
        "    y_i = random.uniform(-2, 2)\n",
        "    if (x_i**2 + y_i**2) <= 4 :\n",
        "      dentro += 1\n",
        "\n",
        "print ()\n",
        "print(\"El valor de E[X_i]\", 100*(dentro/n), \"%\")\n",
        "print(\"El valor de V[X_i]\", 100*(dentro/n)*(1-(dentro/n)), \"%\")"
      ],
      "metadata": {
        "colab": {
          "base_uri": "https://localhost:8080/"
        },
        "id": "RXOL-4rraT2o",
        "outputId": "9e18f871-6959-4eed-e3b9-16d7c0b91b05"
      },
      "execution_count": 25,
      "outputs": [
        {
          "output_type": "stream",
          "name": "stdout",
          "text": [
            "Numero de puntos que desea 1000\n",
            "\n",
            "El valor de E[X_i] 77.3 %\n",
            "El valor de V[X_i] 17.547099999999997 %\n"
          ]
        }
      ]
    }
  ]
}
