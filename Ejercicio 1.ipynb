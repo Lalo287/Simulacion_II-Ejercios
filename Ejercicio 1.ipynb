{
  "nbformat": 4,
  "nbformat_minor": 0,
  "metadata": {
    "colab": {
      "name": "Tarea 1.ipynb",
      "provenance": [],
      "collapsed_sections": [
        "pGfVfY7Od27_",
        "arnOl6lBuftu"
      ],
      "include_colab_link": true
    },
    "kernelspec": {
      "name": "python3",
      "display_name": "Python 3"
    },
    "language_info": {
      "name": "python"
    }
  },
  "cells": [
    {
      "cell_type": "markdown",
      "metadata": {
        "id": "view-in-github",
        "colab_type": "text"
      },
      "source": [
        "<a href=\"https://colab.research.google.com/github/Lalo287/Simulacion_II-Ejercios/blob/main/Ejercicio%201.ipynb\" target=\"_parent\"><img src=\"https://colab.research.google.com/assets/colab-badge.svg\" alt=\"Open In Colab\"/></a>"
      ]
    },
    {
      "cell_type": "markdown",
      "source": [
        "# Uso de los números aleatorios\n"
      ],
      "metadata": {
        "id": "fCOjcKO_W6V5"
      }
    },
    {
      "cell_type": "markdown",
      "source": [
        "## Ejercicio 1:\n",
        "\n",
        "\n",
        "\n",
        "\n"
      ],
      "metadata": {
        "id": "pGfVfY7Od27_"
      }
    },
    {
      "cell_type": "markdown",
      "source": [
        "a.   Usar la función random ( ) para simular 1 volado."
      ],
      "metadata": {
        "id": "laP4r6XTu7b3"
      }
    },
    {
      "cell_type": "code",
      "source": [
        "import random \n",
        "\n",
        "for i in range(1):\n",
        "    t = random.randint(1, 2)\n",
        "    if t == 1 :\n",
        "      print(\" Ha caido CARA. \")\n",
        "    elif t == 2 :\n",
        "      print(\" Ha caido CRUZ. \")\n",
        "  \n",
        "print()"
      ],
      "metadata": {
        "id": "fNGyyxX9evCZ",
        "colab": {
          "base_uri": "https://localhost:8080/"
        },
        "outputId": "cfc58b62-6a2d-477a-f1d1-705b82208ccd"
      },
      "execution_count": 7,
      "outputs": [
        {
          "output_type": "stream",
          "name": "stdout",
          "text": [
            " Ha caido CRUZ. \n",
            "\n"
          ]
        }
      ]
    },
    {
      "cell_type": "markdown",
      "source": [
        "b.   Usar la función random() para simular 1000 volados."
      ],
      "metadata": {
        "id": "IokJi4AOme1w"
      }
    },
    {
      "cell_type": "code",
      "source": [
        "c = 0\n",
        "z = 0\n",
        "\n",
        "for i in range(1000):\n",
        "    t = random.randint(1, 2)\n",
        "    if t == 1 :\n",
        "      c += 1\n",
        "    elif t == 2 :\n",
        "      z += 1\n",
        "\n",
        "print(\"Cara =\", c, \" Cruz =\", z)\n",
        "print()"
      ],
      "metadata": {
        "id": "p2ecUJ4VolAq",
        "colab": {
          "base_uri": "https://localhost:8080/"
        },
        "outputId": "f3d9c5c7-9ba6-49e6-f035-117ca6de62eb"
      },
      "execution_count": 8,
      "outputs": [
        {
          "output_type": "stream",
          "name": "stdout",
          "text": [
            "Cara = 485  Cruz = 515\n",
            "\n"
          ]
        }
      ]
    },
    {
      "cell_type": "markdown",
      "source": [
        "c.   Determinar de b) la probabilidad de que ocurra \"sol\" en un volado. \n",
        "\n"
      ],
      "metadata": {
        "id": "ZlLy3_NtpI-I"
      }
    },
    {
      "cell_type": "code",
      "source": [
        "s = 0\n",
        "a = 0\n",
        "\n",
        "for i in range(1000):\n",
        "    t = random.randint(1, 2)\n",
        "    if t == 1 :\n",
        "      s += 1\n",
        "    elif t == 2 :\n",
        "      a += 1\n",
        "\n",
        "print(\"La probabilidad de que caer SOL es =\", s/10, \"% y de caer Aguila es de =\", a/10, \"%.\")\n",
        "print()"
      ],
      "metadata": {
        "id": "yMDKp-3XrzP3",
        "colab": {
          "base_uri": "https://localhost:8080/"
        },
        "outputId": "e0b2afa4-47e2-4623-8e6f-33ae0ccb6580"
      },
      "execution_count": 9,
      "outputs": [
        {
          "output_type": "stream",
          "name": "stdout",
          "text": [
            "La probabilidad de que caer SOL es = 47.4 % y de caer Aguila es de = 52.6 %.\n",
            "\n"
          ]
        }
      ]
    }
  ]
}