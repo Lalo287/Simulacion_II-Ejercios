{
  "nbformat": 4,
  "nbformat_minor": 0,
  "metadata": {
    "colab": {
      "name": "Ejercicio 1.ipynb",
      "provenance": [],
      "authorship_tag": "ABX9TyMAirjL2kiQd8SiC21a4WdM",
      "include_colab_link": true
    },
    "kernelspec": {
      "name": "python3",
      "display_name": "Python 3"
    },
    "language_info": {
      "name": "python"
    }
  },
  "cells": [
    {
      "cell_type": "markdown",
      "metadata": {
        "id": "view-in-github",
        "colab_type": "text"
      },
      "source": [
        "<a href=\"https://colab.research.google.com/github/Lalo287/Simulacion_II-Ejercios/blob/main/Ejercicio_1.ipynb\" target=\"_parent\"><img src=\"https://colab.research.google.com/assets/colab-badge.svg\" alt=\"Open In Colab\"/></a>"
      ]
    },
    {
      "cell_type": "markdown",
      "source": [
        "# Uso de los números aleatorios\n",
        "\n"
      ],
      "metadata": {
        "id": "jVOaUYmn2oVu"
      }
    },
    {
      "cell_type": "markdown",
      "source": [
        "## Ejercicio 1:\n",
        "\n",
        "\n",
        "\n",
        "\n"
      ],
      "metadata": {
        "id": "pGfVfY7Od27_"
      }
    },
    {
      "cell_type": "markdown",
      "source": [
        "a.   Usar la función random ( ) para simular 1 volado."
      ],
      "metadata": {
        "id": "laP4r6XTu7b3"
      }
    },
    {
      "cell_type": "code",
      "source": [
        "import random \n",
        "\n",
        "for i in range(1):\n",
        "    t = random.randint(1, 2)\n",
        "    if t == 1 :\n",
        "      print(\" Ha caido CARA. \")\n",
        "    elif t == 2 :\n",
        "      print(\" Ha caido CRUZ. \")\n"
      ],
      "metadata": {
        "id": "fNGyyxX9evCZ",
        "colab": {
          "base_uri": "https://localhost:8080/"
        },
        "outputId": "4fa1240c-4086-420b-e018-b3ea5511139f"
      },
      "execution_count": null,
      "outputs": [
        {
          "output_type": "stream",
          "name": "stdout",
          "text": [
            " Ha caido CRUZ. \n"
          ]
        }
      ]
    },
    {
      "cell_type": "markdown",
      "source": [
        "b.   Usar la función random() para simular 1000 volados."
      ],
      "metadata": {
        "id": "IokJi4AOme1w"
      }
    },
    {
      "cell_type": "code",
      "source": [
        "c = 0\n",
        "z = 0\n",
        "\n",
        "for i in range(1000):\n",
        "    t = random.randint(1, 2)\n",
        "    if t == 1 :\n",
        "      c += 1\n",
        "    elif t == 2 :\n",
        "      z += 1\n",
        "\n",
        "print(\"Cara =\", c, \" Cruz =\", z)"
      ],
      "metadata": {
        "id": "p2ecUJ4VolAq",
        "colab": {
          "base_uri": "https://localhost:8080/"
        },
        "outputId": "6c51d5b3-b0ca-40b2-fa74-57767b315479"
      },
      "execution_count": null,
      "outputs": [
        {
          "output_type": "stream",
          "name": "stdout",
          "text": [
            "Cara = 503  Cruz = 497\n"
          ]
        }
      ]
    },
    {
      "cell_type": "markdown",
      "source": [
        "c.   Determinar de b) la probabilidad de que ocurra \"sol\" en un volado. \n",
        "\n"
      ],
      "metadata": {
        "id": "ZlLy3_NtpI-I"
      }
    },
    {
      "cell_type": "code",
      "source": [
        "s = 0\n",
        "a = 0\n",
        "\n",
        "for i in range(1000):\n",
        "    t = random.randint(1, 2)\n",
        "    if t == 1 :\n",
        "      s += 1\n",
        "    elif t == 2 :\n",
        "      a += 1\n",
        "\n",
        "print(\"La probabilidad de que caer SOL es =\", s/10, \"% y de caer Aguila es de =\", a/10, \"%.\")"
      ],
      "metadata": {
        "id": "yMDKp-3XrzP3",
        "colab": {
          "base_uri": "https://localhost:8080/"
        },
        "outputId": "793fd2df-d017-4b17-d189-d81a411857f3"
      },
      "execution_count": null,
      "outputs": [
        {
          "output_type": "stream",
          "name": "stdout",
          "text": [
            "La probabilidad de que caer SOL es = 50.8 % y de caer Aguila es de = 49.2 %.\n"
          ]
        }
      ]
    }
  ]
}