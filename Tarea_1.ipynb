{
  "nbformat": 4,
  "nbformat_minor": 0,
  "metadata": {
    "colab": {
      "name": "Tarea 1.ipynb",
      "provenance": [],
      "collapsed_sections": [
        "pGfVfY7Od27_",
        "arnOl6lBuftu"
      ],
      "include_colab_link": true
    },
    "kernelspec": {
      "name": "python3",
      "display_name": "Python 3"
    },
    "language_info": {
      "name": "python"
    }
  },
  "cells": [
    {
      "cell_type": "markdown",
      "metadata": {
        "id": "view-in-github",
        "colab_type": "text"
      },
      "source": [
        "<a href=\"https://colab.research.google.com/github/Lalo287/Simulacion_II-Ejercios/blob/main/Tarea_1.ipynb\" target=\"_parent\"><img src=\"https://colab.research.google.com/assets/colab-badge.svg\" alt=\"Open In Colab\"/></a>"
      ]
    },
    {
      "cell_type": "markdown",
      "source": [
        "# Uso de los números aleatorios\n"
      ],
      "metadata": {
        "id": "fCOjcKO_W6V5"
      }
    },
    {
      "cell_type": "markdown",
      "source": [
        "# Tarea 1.\n"
      ],
      "metadata": {
        "id": "xFy8cBrls9wH"
      }
    },
    {
      "cell_type": "markdown",
      "source": [
        "Estimar el valor de pi usando la función random"
      ],
      "metadata": {
        "id": "YRgOnz4HuSfg"
      }
    },
    {
      "cell_type": "code",
      "source": [
        "import random \n",
        "\n",
        "n = int(input(\"Numero de puntos que desea \"))\n",
        "dentro = 0\n",
        "\n",
        "for i in range(n):\n",
        "    x = random.uniform(-2, 2)\n",
        "    y = random.uniform(-2, 2)\n",
        "    if (x*x + y*y) <= 4 :\n",
        "      dentro += 1\n",
        "\n",
        "print ()\n",
        "print(\"El valor estimado de pi es\" , 4*(dentro/n))\n"
      ],
      "metadata": {
        "id": "Aps8gA25tnwH",
        "colab": {
          "base_uri": "https://localhost:8080/"
        },
        "outputId": "8cec0f62-283f-46f2-c705-f0144d2997bd"
      },
      "execution_count": null,
      "outputs": [
        {
          "output_type": "stream",
          "name": "stdout",
          "text": [
            "Numero de puntos que desea 8000\n",
            "\n",
            "El valor estimado de pi es 3.121\n"
          ]
        }
      ]
    }
  ]
}