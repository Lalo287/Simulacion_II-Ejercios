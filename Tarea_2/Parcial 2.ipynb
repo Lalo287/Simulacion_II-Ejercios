{
  "nbformat": 4,
  "nbformat_minor": 0,
  "metadata": {
    "colab": {
      "name": "Tarea 2.ipynb",
      "provenance": [],
      "collapsed_sections": [],
      "authorship_tag": "ABX9TyNbBZ2Tniib8dy2tDsNWBc2",
      "include_colab_link": true
    },
    "kernelspec": {
      "name": "python3",
      "display_name": "Python 3"
    },
    "language_info": {
      "name": "python"
    }
  },
  "cells": [
    {
      "cell_type": "markdown",
      "metadata": {
        "id": "view-in-github",
        "colab_type": "text"
      },
      "source": [
        "<a href=\"https://colab.research.google.com/github/Lalo287/Simulacion_II-Ejercios/blob/main/Tarea_2/Parcial%202.ipynb\" target=\"_parent\"><img src=\"https://colab.research.google.com/assets/colab-badge.svg\" alt=\"Open In Colab\"/></a>"
      ]
    },
    {
      "cell_type": "markdown",
      "source": [
        "#Líneas de espera"
      ],
      "metadata": {
        "id": "brE9BTtjRBD2"
      }
    },
    {
      "cell_type": "markdown",
      "source": [
        "##Tarea 2.\n"
      ],
      "metadata": {
        "id": "GJiX-Djs82Qf"
      }
    },
    {
      "cell_type": "markdown",
      "source": [
        "Escribir el código en python de las rutinas indicadas en la sección 6.2 (pp. 88-91) del libro Simulación de Sheldon Ross."
      ],
      "metadata": {
        "id": "q5eFKfUMKdJf"
      }
    },
    {
      "cell_type": "code",
      "execution_count": null,
      "metadata": {
        "id": "MPApSEUOPrbw"
      },
      "outputs": [],
      "source": [
        "from random import random\n",
        "from math import log\n",
        "import matplotlib.pyplot as plt\n",
        "\n",
        "Na = 2           #Llegan aprox 2 usuarios por minuto\n",
        "Nd = 2.2         #Las personas que son capaces de atender en el servidor es un usuario por minuto\n",
        "\n",
        "ta = 0           #los tiempos de llegada de los clientes inicia en 0 \n",
        "td = 100000    \n",
        "\n",
        "T=30            #Tiempo de la simulacion \n",
        "t=0             #iniciamos la simulacion en t=0\n",
        "\n",
        "n = 0             #el numero de clientes que se encuentran en el sistema \n",
        "\n",
        "Lt=[ ]          #lista para guardar los tiempos de llegada \n",
        "Ll=[ ]          #lista para guardar lso cleintes que van llegando y saliendo \n",
        "\n",
        "print(\"     Entrada        No. clientes                    Salida           No. clientes\")\n",
        "print(\"                                                                      \")\n",
        "\n",
        "while min(ta,td) < T:\n",
        "\n",
        "    Lt.append(t)\n",
        "    Ll.append(n)\n",
        "    t = min(ta,td)\n",
        "    Lt.append(t)\n",
        "    Ll.append(n)\n",
        "\n",
        "    if ta <= td:\n",
        "        n = n+1\n",
        "        print(\"%10.2f\"%ta,\"            \",n)\n",
        "        ta = t + (-1/Na)*log(random())\n",
        "        if n == 1: td = t + (-1/Nd)*log(random())\n",
        "    else:\n",
        "        n = n-1\n",
        "        print(\"                        -                     |\",\"%10.2f\"%td,\"                     \",n)\n",
        "        if n == 0:\n",
        "            td = 100000\n",
        "        else:\n",
        "            td = t + (-1./Nd)*log(random())\n",
        "\n",
        "print(\"                             \")\n",
        "plt.plot(Lt,Ll, color = \"black\")\n",
        "plt.xlabel(\"Tiempo\")\n",
        "plt.ylabel(\"Numero de personas en el sistema\")\n",
        "plt.show()"
      ]
    }
  ]
}